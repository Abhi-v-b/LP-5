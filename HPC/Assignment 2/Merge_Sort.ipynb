{
  "nbformat": 4,
  "nbformat_minor": 0,
  "metadata": {
    "colab": {
      "provenance": [],
      "gpuType": "T4",
      "authorship_tag": "ABX9TyM9I2yEvMhZPbh0mMTnbkjc",
      "include_colab_link": true
    },
    "kernelspec": {
      "name": "python3",
      "display_name": "Python 3"
    },
    "language_info": {
      "name": "python"
    },
    "accelerator": "GPU"
  },
  "cells": [
    {
      "cell_type": "markdown",
      "metadata": {
        "id": "view-in-github",
        "colab_type": "text"
      },
      "source": [
        "<a href=\"https://colab.research.google.com/github/Abhi-v-b/LP-5/blob/main/HPC/Assignment%202/Merge_Sort.ipynb\" target=\"_parent\"><img src=\"https://colab.research.google.com/assets/colab-badge.svg\" alt=\"Open In Colab\"/></a>"
      ]
    },
    {
      "cell_type": "code",
      "source": [
        "!nvcc --version"
      ],
      "metadata": {
        "colab": {
          "base_uri": "https://localhost:8080/"
        },
        "id": "P8sPX78Nhfzj",
        "outputId": "81cbdea5-2fbd-47cd-b1e3-524a35a79061"
      },
      "execution_count": 2,
      "outputs": [
        {
          "output_type": "stream",
          "name": "stdout",
          "text": [
            "nvcc: NVIDIA (R) Cuda compiler driver\n",
            "Copyright (c) 2005-2023 NVIDIA Corporation\n",
            "Built on Tue_Aug_15_22:02:13_PDT_2023\n",
            "Cuda compilation tools, release 12.2, V12.2.140\n",
            "Build cuda_12.2.r12.2/compiler.33191640_0\n"
          ]
        }
      ]
    },
    {
      "cell_type": "code",
      "source": [
        "pip install git+https://github.com/afnan47/cuda.git"
      ],
      "metadata": {
        "colab": {
          "base_uri": "https://localhost:8080/"
        },
        "id": "ynI1C171hhMi",
        "outputId": "78a05d73-dbd2-46eb-ecbd-0923d7128e66"
      },
      "execution_count": 3,
      "outputs": [
        {
          "output_type": "stream",
          "name": "stdout",
          "text": [
            "Collecting git+https://github.com/afnan47/cuda.git\n",
            "  Cloning https://github.com/afnan47/cuda.git to /tmp/pip-req-build-xo5xr88m\n",
            "  Running command git clone --filter=blob:none --quiet https://github.com/afnan47/cuda.git /tmp/pip-req-build-xo5xr88m\n",
            "  Resolved https://github.com/afnan47/cuda.git to commit aac710a35f52bb78ab34d2e52517237941399eff\n",
            "  Preparing metadata (setup.py) ... \u001b[?25l\u001b[?25hdone\n",
            "Building wheels for collected packages: NVCCPlugin\n",
            "  Building wheel for NVCCPlugin (setup.py) ... \u001b[?25l\u001b[?25hdone\n",
            "  Created wheel for NVCCPlugin: filename=NVCCPlugin-0.0.2-py3-none-any.whl size=4289 sha256=0e8b9f4e58d2d25110fd82ed463fcd37ca268aed7553ffcb9fac5c980c197479\n",
            "  Stored in directory: /tmp/pip-ephem-wheel-cache-m3uwgoi7/wheels/aa/f3/44/e10c1d226ec561d971fcd4b0463f6bff08602afa928a3e7bc7\n",
            "Successfully built NVCCPlugin\n",
            "Installing collected packages: NVCCPlugin\n",
            "Successfully installed NVCCPlugin-0.0.2\n"
          ]
        }
      ]
    },
    {
      "cell_type": "code",
      "source": [
        "%load_ext nvcc_plugin"
      ],
      "metadata": {
        "colab": {
          "base_uri": "https://localhost:8080/"
        },
        "id": "Q-HKH-pAhlBX",
        "outputId": "01ca6278-f156-41b6-b076-d32cd6121d2b"
      },
      "execution_count": 4,
      "outputs": [
        {
          "output_type": "stream",
          "name": "stdout",
          "text": [
            "created output directory at /content/src\n",
            "Out bin /content/result.out\n"
          ]
        }
      ]
    },
    {
      "cell_type": "code",
      "source": [
        "%%writefile merge.cu\n",
        "\n",
        "#include <iostream>\n",
        "#include <vector>\n",
        "#include <chrono>\n",
        "#include <cuda_runtime.h>\n",
        "\n",
        "// CUDA kernel for Bubble Sort\n",
        "__global__ void bubble_sort(int* d_arr, int size) {\n",
        "    int idx = blockIdx.x * blockDim.x + threadIdx.x; // Thread index\n",
        "    for (int i = 0; i < size - 1; i++) {\n",
        "        int j = idx + i; // Offset to perform the bubble sort step\n",
        "        if (j < size - 1 && d_arr[j] > d_arr[j + 1]) { // Swap if out of order\n",
        "            int temp = d_arr[j];\n",
        "            d_arr[j] = d_arr[j + 1];\n",
        "            d_arr[j + 1] = temp;\n",
        "        }\n",
        "        __syncthreads(); // Synchronize threads within block\n",
        "    }\n",
        "}\n",
        "\n",
        "// Function for Bubble Sort on CPU\n",
        "void bubble_sort_cpu(int* arr, int size) {\n",
        "    for (int i = 0; i < size - 1; i++) {\n",
        "        for (int j = 0; j < size - 1 - i; j++) {\n",
        "            if (arr[j] > arr[j + 1]) { // Swap if out of order\n",
        "                int temp = arr[j];\n",
        "                arr[j] = arr[j + 1];\n",
        "                arr[j + 1] = temp;\n",
        "            }\n",
        "        }\n",
        "    }\n",
        "}\n",
        "\n",
        "int main() {\n",
        "    // Test data\n",
        "    int h_arr[] = {64, 34, 25, 12, 22, 11, 90};\n",
        "    int size = sizeof(h_arr) / sizeof(h_arr[0]);\n",
        "\n",
        "    // Bubble Sort on CPU\n",
        "    auto start = std::chrono::high_resolution_clock::now();\n",
        "    bubble_sort_cpu(h_arr, size);\n",
        "    auto end = std::chrono::high_resolution_clock::now();\n",
        "    std::chrono::duration<double> duration = end - start;\n",
        "    std::cout << \"Sequential Merge Sort took \" << duration.count() << \" seconds\\n\";\n",
        "\n",
        "    // Copying data to the device for parallel Bubble Sort\n",
        "    int* d_arr;\n",
        "    cudaMalloc(&d_arr, size * sizeof(int));\n",
        "    cudaMemcpy(d_arr, h_arr, size * sizeof(int), cudaMemcpyHostToDevice);\n",
        "\n",
        "    // Bubble Sort on GPU\n",
        "    start = std::chrono::high_resolution_clock::now();\n",
        "    int blockSize = 256; // Threads per block\n",
        "    int gridSize = (size + blockSize - 1) / blockSize; // Blocks\n",
        "    bubble_sort<<<gridSize, blockSize>>>(d_arr, size);\n",
        "    cudaMemcpy(h_arr, d_arr, size * sizeof(int), cudaMemcpyDeviceToHost); // Copy back to host\n",
        "    end = std::chrono::high_resolution_clock::now();\n",
        "    duration = end - start;\n",
        "    std::cout << \"Parallel Merge Sort took \" << duration.count() << \" seconds\\n\";\n",
        "\n",
        "    // Display sorted array\n",
        "    std::cout << \"Sorted Array: \";\n",
        "    for (int i = 0; i < size; i++) {\n",
        "        std::cout << h_arr[i] << \" \";\n",
        "    }\n",
        "    std::cout << std::endl;\n",
        "\n",
        "    // Free device memory\n",
        "    cudaFree(d_arr);\n",
        "\n",
        "    return 0;\n",
        "}"
      ],
      "metadata": {
        "colab": {
          "base_uri": "https://localhost:8080/"
        },
        "id": "-G8t5wrNhpJJ",
        "outputId": "4bd5f46f-bae8-4000-df56-c57852f6a764"
      },
      "execution_count": 5,
      "outputs": [
        {
          "output_type": "stream",
          "name": "stdout",
          "text": [
            "Writing merge.cu\n"
          ]
        }
      ]
    },
    {
      "cell_type": "code",
      "source": [
        "!nvcc merge.cu -o merge"
      ],
      "metadata": {
        "id": "TeDmU61NhvSd"
      },
      "execution_count": 6,
      "outputs": []
    },
    {
      "cell_type": "code",
      "source": [
        "!./merge"
      ],
      "metadata": {
        "colab": {
          "base_uri": "https://localhost:8080/"
        },
        "id": "yey76A-Yh1RD",
        "outputId": "175db3ba-7121-4176-c719-c5ef44721942"
      },
      "execution_count": 7,
      "outputs": [
        {
          "output_type": "stream",
          "name": "stdout",
          "text": [
            "Sequential Merge Sort took 4.89e-07 seconds\n",
            "Parallel Merge Sort took 0.125969 seconds\n",
            "Sorted Array: 11 12 22 25 34 64 90 \n"
          ]
        }
      ]
    }
  ]
}