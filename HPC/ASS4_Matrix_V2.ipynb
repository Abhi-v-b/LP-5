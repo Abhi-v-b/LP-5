{
  "nbformat": 4,
  "nbformat_minor": 0,
  "metadata": {
    "colab": {
      "provenance": [],
      "gpuType": "T4",
      "include_colab_link": true
    },
    "kernelspec": {
      "name": "python3",
      "display_name": "Python 3"
    },
    "language_info": {
      "name": "python"
    },
    "accelerator": "GPU"
  },
  "cells": [
    {
      "cell_type": "markdown",
      "metadata": {
        "id": "view-in-github",
        "colab_type": "text"
      },
      "source": [
        "<a href=\"https://colab.research.google.com/github/Abhi-v-b/LP-5/blob/main/HPC/ASS4_Matrix_V2.ipynb\" target=\"_parent\"><img src=\"https://colab.research.google.com/assets/colab-badge.svg\" alt=\"Open In Colab\"/></a>"
      ]
    },
    {
      "cell_type": "code",
      "execution_count": null,
      "metadata": {
        "colab": {
          "base_uri": "https://localhost:8080/"
        },
        "id": "DR1mPxeTvjnG",
        "outputId": "c0d6f3bb-acca-439e-d8a8-7c3b8a65d4aa"
      },
      "outputs": [
        {
          "output_type": "stream",
          "name": "stdout",
          "text": [
            "nvcc: NVIDIA (R) Cuda compiler driver\n",
            "Copyright (c) 2005-2023 NVIDIA Corporation\n",
            "Built on Tue_Aug_15_22:02:13_PDT_2023\n",
            "Cuda compilation tools, release 12.2, V12.2.140\n",
            "Build cuda_12.2.r12.2/compiler.33191640_0\n"
          ]
        }
      ],
      "source": [
        "!nvcc --version"
      ]
    },
    {
      "cell_type": "code",
      "source": [
        "!pip install git+https://github.com/afnan47/cuda.git"
      ],
      "metadata": {
        "id": "q10vpDFZv9YZ",
        "colab": {
          "base_uri": "https://localhost:8080/"
        },
        "outputId": "0732748f-f39e-4692-aece-d91d0cae64a7"
      },
      "execution_count": null,
      "outputs": [
        {
          "output_type": "stream",
          "name": "stdout",
          "text": [
            "Collecting git+https://github.com/afnan47/cuda.git\n",
            "  Cloning https://github.com/afnan47/cuda.git to /tmp/pip-req-build-1xdus22e\n",
            "  Running command git clone --filter=blob:none --quiet https://github.com/afnan47/cuda.git /tmp/pip-req-build-1xdus22e\n",
            "  Resolved https://github.com/afnan47/cuda.git to commit aac710a35f52bb78ab34d2e52517237941399eff\n",
            "  Preparing metadata (setup.py) ... \u001b[?25l\u001b[?25hdone\n",
            "Building wheels for collected packages: NVCCPlugin\n",
            "  Building wheel for NVCCPlugin (setup.py) ... \u001b[?25l\u001b[?25hdone\n",
            "  Created wheel for NVCCPlugin: filename=NVCCPlugin-0.0.2-py3-none-any.whl size=4289 sha256=1f701232b08c638850e5bbcfa961680f7cb9b5272c3a93b04b33c8d54e9cd45a\n",
            "  Stored in directory: /tmp/pip-ephem-wheel-cache-ytg7tlm6/wheels/aa/f3/44/e10c1d226ec561d971fcd4b0463f6bff08602afa928a3e7bc7\n",
            "Successfully built NVCCPlugin\n",
            "Installing collected packages: NVCCPlugin\n",
            "Successfully installed NVCCPlugin-0.0.2\n"
          ]
        }
      ]
    },
    {
      "cell_type": "code",
      "source": [
        "%load_ext nvcc_plugin"
      ],
      "metadata": {
        "id": "imFwNnCqwELF",
        "colab": {
          "base_uri": "https://localhost:8080/"
        },
        "outputId": "35a66076-9066-48d1-be70-e8faf4fece17"
      },
      "execution_count": null,
      "outputs": [
        {
          "output_type": "stream",
          "name": "stdout",
          "text": [
            "created output directory at /content/src\n",
            "Out bin /content/result.out\n"
          ]
        }
      ]
    },
    {
      "cell_type": "code",
      "source": [
        "%%writefile matrix_mult.c\n",
        "#include <stdio.h>\n",
        "#include <stdlib.h>\n",
        "#include <time.h>\n",
        "#include<omp.h>\n",
        "#define N 4\n",
        "\n",
        "float A[N][N], B[N][N], C[N][N]; // declaring matrices of NxN size\n",
        "int main ()\n",
        "{\n",
        "  /* DECLARING VARIABLES */\n",
        "  int i, j, m; // indices for matrix multiplication\n",
        "  float t_1; // Execution time measures\n",
        "  clock_t c_1, c_2;\n",
        "  /* FILLING MATRICES WITH RANDOM NUMBERS */\n",
        "  for(i=0;i<N;i++)\n",
        "  {\n",
        "    for(j=0;j<N;j++)\n",
        "    {\n",
        "\tA[i][j]= (rand()%5);\n",
        "\tB[i][j]= (rand()%5);\n",
        "    }\n",
        "  }\n",
        "  // Display input matrix A:\n",
        "  printf(\"Matrix A:\\n\");\n",
        "  for(i=0;i<N;i++)\n",
        "  {\n",
        "    for(j=0;j<N;j++)\n",
        "    {\n",
        "      printf(\"%f\\t\",A[i][j]);\n",
        "    }\n",
        "    printf(\"\\n\");\n",
        "  }\n",
        "  // Display input matrix B:\n",
        "  printf(\"Matrix B:\\n\");\n",
        "  for(i=0;i<N;i++)\n",
        "  {\n",
        "    for(j=0;j<N;j++)\n",
        "    {\n",
        "        printf(\"%f\\t\",B[i][j]);\n",
        "    }\n",
        "    printf(\"\\n\");\n",
        "  }\n",
        "  c_1=clock();  // time measure:\n",
        "  /* MATRIX MULTIPLICATION */\n",
        "  printf(\"Max number of threads: %i \\n\",omp_get_max_threads());\n",
        "  #pragma omp parallel\n",
        "  #pragma omp single\n",
        "  {\n",
        "     printf(\"Number of threads: %i \\n\",omp_get_num_threads());\n",
        "  }\n",
        "  #pragma omp parallel for private(m,j)\n",
        "  // #pragma omp_set_num_threads(8)\n",
        "  for(i=0;i<N;i++)\n",
        "  {\n",
        "    for(j=0;j<N;j++)\n",
        "    {\n",
        "       C[i][j]=0.; // set initial value of resulting matrix C = 0\n",
        "       for(m=0;m<N;m++)\n",
        "       {\n",
        "\t  C[i][j]=A[i][m]*B[m][j]+C[i][j];\n",
        "       }\n",
        "     }\n",
        "  }\n",
        "  // Display input matrix B:\n",
        "  printf(\"Matrix C:\\n\");\n",
        "  for(i=0;i<N;i++)\n",
        "  {\n",
        "    for(j=0;j<N;j++)\n",
        "    {\n",
        "       printf(\"%f\\t\",C[i][j]);\n",
        "    }\n",
        "    printf(\"\\n\");\n",
        "  }\n",
        "  /* TIME MEASURE + OUTPUT */\n",
        "  c_2=clock();  // time measure:\n",
        "  t_1 = (float)(c_2-c_1)/CLOCKS_PER_SEC; // in seconds; - time elapsed for job row-wise\n",
        "  printf(\"Execution time: %f(in seconds) \\n\",t_1);\n",
        "  /* TERMINATE PROGRAM */\n",
        "  return 0;\n",
        "}"
      ],
      "metadata": {
        "id": "1c219AdYv1rN",
        "colab": {
          "base_uri": "https://localhost:8080/"
        },
        "outputId": "a06ae981-68bd-4a15-8b08-9147f35da209"
      },
      "execution_count": null,
      "outputs": [
        {
          "output_type": "stream",
          "name": "stdout",
          "text": [
            "Writing matrix_mult.c\n"
          ]
        }
      ]
    },
    {
      "cell_type": "code",
      "source": [
        "!g++ matrix_mult.c -fopenmp -o mat"
      ],
      "metadata": {
        "id": "tnxOOYNq0uPG"
      },
      "execution_count": null,
      "outputs": []
    },
    {
      "cell_type": "code",
      "source": [
        "!./mat"
      ],
      "metadata": {
        "id": "4JT_GYCv0y9P",
        "colab": {
          "base_uri": "https://localhost:8080/"
        },
        "outputId": "ec5b630b-3163-4c29-a02f-d9f57d98c56a"
      },
      "execution_count": null,
      "outputs": [
        {
          "output_type": "stream",
          "name": "stdout",
          "text": [
            "Matrix A:\n",
            "3.000000\t2.000000\t3.000000\t1.000000\t\n",
            "4.000000\t2.000000\t0.000000\t3.000000\t\n",
            "0.000000\t2.000000\t1.000000\t2.000000\t\n",
            "2.000000\t2.000000\t2.000000\t4.000000\t\n",
            "Matrix B:\n",
            "1.000000\t0.000000\t0.000000\t2.000000\t\n",
            "1.000000\t2.000000\t4.000000\t1.000000\t\n",
            "1.000000\t1.000000\t3.000000\t4.000000\t\n",
            "0.000000\t3.000000\t0.000000\t2.000000\t\n",
            "Max number of threads: 2 \n",
            "Number of threads: 2 \n",
            "Matrix C:\n",
            "8.000000\t10.000000\t17.000000\t22.000000\t\n",
            "6.000000\t13.000000\t8.000000\t16.000000\t\n",
            "3.000000\t11.000000\t11.000000\t10.000000\t\n",
            "6.000000\t18.000000\t14.000000\t22.000000\t\n",
            "Execution time: 0.000092(in seconds) \n"
          ]
        }
      ]
    }
  ]
}