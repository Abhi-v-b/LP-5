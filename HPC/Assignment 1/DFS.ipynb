{
  "nbformat": 4,
  "nbformat_minor": 0,
  "metadata": {
    "colab": {
      "provenance": [],
      "gpuType": "T4",
      "authorship_tag": "ABX9TyNlK65KWVJMWkCwDUuVEMWJ",
      "include_colab_link": true
    },
    "kernelspec": {
      "name": "python3",
      "display_name": "Python 3"
    },
    "language_info": {
      "name": "python"
    },
    "accelerator": "GPU"
  },
  "cells": [
    {
      "cell_type": "markdown",
      "metadata": {
        "id": "view-in-github",
        "colab_type": "text"
      },
      "source": [
        "<a href=\"https://colab.research.google.com/github/Abhi-v-b/LP-5/blob/main/HPC/Assignment%201/DFS.ipynb\" target=\"_parent\"><img src=\"https://colab.research.google.com/assets/colab-badge.svg\" alt=\"Open In Colab\"/></a>"
      ]
    },
    {
      "cell_type": "code",
      "execution_count": null,
      "metadata": {
        "colab": {
          "base_uri": "https://localhost:8080/"
        },
        "id": "M9JaRmPUaq76",
        "outputId": "a9fb0dd5-fc54-4359-e003-5ddee01a0011"
      },
      "outputs": [
        {
          "output_type": "stream",
          "name": "stdout",
          "text": [
            "nvcc: NVIDIA (R) Cuda compiler driver\n",
            "Copyright (c) 2005-2023 NVIDIA Corporation\n",
            "Built on Tue_Aug_15_22:02:13_PDT_2023\n",
            "Cuda compilation tools, release 12.2, V12.2.140\n",
            "Build cuda_12.2.r12.2/compiler.33191640_0\n"
          ]
        }
      ],
      "source": [
        "!nvcc --version"
      ]
    },
    {
      "cell_type": "code",
      "source": [
        "!pip install git+https://github.com/afnan47/cuda.git"
      ],
      "metadata": {
        "colab": {
          "base_uri": "https://localhost:8080/"
        },
        "id": "8irX3_vgaynv",
        "outputId": "ee56cc11-eb2d-499a-ee4d-f5971199cd13"
      },
      "execution_count": null,
      "outputs": [
        {
          "output_type": "stream",
          "name": "stdout",
          "text": [
            "Collecting git+https://github.com/afnan47/cuda.git\n",
            "  Cloning https://github.com/afnan47/cuda.git to /tmp/pip-req-build-dxeoc89d\n",
            "  Running command git clone --filter=blob:none --quiet https://github.com/afnan47/cuda.git /tmp/pip-req-build-dxeoc89d\n",
            "  Resolved https://github.com/afnan47/cuda.git to commit aac710a35f52bb78ab34d2e52517237941399eff\n",
            "  Preparing metadata (setup.py) ... \u001b[?25l\u001b[?25hdone\n",
            "Building wheels for collected packages: NVCCPlugin\n",
            "  Building wheel for NVCCPlugin (setup.py) ... \u001b[?25l\u001b[?25hdone\n",
            "  Created wheel for NVCCPlugin: filename=NVCCPlugin-0.0.2-py3-none-any.whl size=4289 sha256=9a079872d6ed9d766870c866540dc6ebe4ac4ef60cfe608ad09bc31bed105961\n",
            "  Stored in directory: /tmp/pip-ephem-wheel-cache-c55xif4d/wheels/aa/f3/44/e10c1d226ec561d971fcd4b0463f6bff08602afa928a3e7bc7\n",
            "Successfully built NVCCPlugin\n",
            "Installing collected packages: NVCCPlugin\n",
            "Successfully installed NVCCPlugin-0.0.2\n"
          ]
        }
      ]
    },
    {
      "cell_type": "code",
      "source": [
        "%load_ext nvcc_plugin"
      ],
      "metadata": {
        "colab": {
          "base_uri": "https://localhost:8080/"
        },
        "id": "BeBbVba2a25e",
        "outputId": "de9e9ca4-3693-4bdb-f0eb-6c2bcec38814"
      },
      "execution_count": null,
      "outputs": [
        {
          "output_type": "stream",
          "name": "stdout",
          "text": [
            "created output directory at /content/src\n",
            "Out bin /content/result.out\n"
          ]
        }
      ]
    },
    {
      "cell_type": "code",
      "source": [
        "%%writefile depthfirst.cu\n",
        "\n",
        "#include <iostream>\n",
        "#include <vector>\n",
        "#include <stack>\n",
        "#include <cuda_runtime.h>\n",
        "\n",
        "#define THREADS_PER_BLOCK 256\n",
        "\n",
        "// CUDA kernel to perform parallel DFS\n",
        "__global__ void parallel_dfs(int *adj_list, int *adj_list_offsets, int *visited, int start_node, int num_nodes) {\n",
        "    int thread_id = blockIdx.x * blockDim.x + threadIdx.x;\n",
        "\n",
        "    if (thread_id < num_nodes) {\n",
        "        if (thread_id == start_node) {\n",
        "            visited[start_node] = 1;  // Mark the starting node as visited\n",
        "            __threadfence();  // Ensure all threads see the update\n",
        "        }\n",
        "\n",
        "        __shared__ int stack[THREADS_PER_BLOCK];\n",
        "        int top = -1;\n",
        "\n",
        "        // Push the start node onto the stack (only for the initial thread)\n",
        "        if (thread_id == start_node) {\n",
        "            stack[++top] = start_node;\n",
        "        }\n",
        "\n",
        "        while (top >= 0) {\n",
        "            int current_node = stack[top--];  // Pop from the stack\n",
        "\n",
        "            // Traverse neighbors\n",
        "            for (int i = adj_list_offsets[current_node]; i < adj_list_offsets[current_node + 1]; ++i) {\n",
        "                int neighbor = adj_list[i];\n",
        "                if (!visited[neighbor]) {\n",
        "                    visited[neighbor] = 1;  // Mark as visited\n",
        "                    stack[++top] = neighbor;  // Push onto the stack\n",
        "                    __threadfence();  // Ensure other threads see the update\n",
        "                }\n",
        "            }\n",
        "        }\n",
        "    }\n",
        "}\n",
        "\n",
        "int main() {\n",
        "    int num_nodes = 6;  // Number of nodes in the graph\n",
        "    std::vector<std::vector<int>> adj_list = {\n",
        "        {1, 2},   // Node 0 connected to 1, 2\n",
        "        {0, 3, 4},  // Node 1 connected to 0, 3, 4\n",
        "        {0, 4, 5},  // Node 2 connected to 0, 4, 5\n",
        "        {1},       // Node 3 connected to 1\n",
        "        {1, 2},    // Node 4 connected to 1, 2\n",
        "        {2}        // Node 5 connected to 2\n",
        "    };\n",
        "\n",
        "    int *d_adj_list, *d_adj_list_offsets, *d_visited;\n",
        "    int start_node = 0;  // Starting node for DFS\n",
        "\n",
        "    // Create a flat adjacency list and offsets\n",
        "    std::vector<int> flat_adj_list;\n",
        "    std::vector<int> adj_list_offsets(num_nodes + 1, 0);\n",
        "\n",
        "    int offset = 0;\n",
        "    for (int i = 0; i < num_nodes; i++) {\n",
        "        adj_list_offsets[i] = offset;\n",
        "        flat_adj_list.insert(flat_adj_list.end(), adj_list[i].begin(), adj_list[i].end());\n",
        "        offset += adj_list[i].size();\n",
        "    }\n",
        "    adj_list_offsets[num_nodes] = offset;\n",
        "\n",
        "    // Allocate and copy data to GPU\n",
        "    cudaMalloc(&d_adj_list, flat_adj_list.size() * sizeof(int));\n",
        "    cudaMemcpy(d_adj_list, flat_adj_list.data(), flat_adj_list.size() * sizeof(int), cudaMemcpyHostToDevice);\n",
        "\n",
        "    cudaMalloc(&d_adj_list_offsets, adj_list_offsets.size() * sizeof(int));\n",
        "    cudaMemcpy(d_adj_list_offsets, adj_list_offsets.data(), adj_list_offsets.size() * sizeof(int), cudaMemcpyHostToDevice);\n",
        "\n",
        "    cudaMalloc(&d_visited, num_nodes * sizeof(int));\n",
        "    cudaMemset(d_visited, 0, num_nodes * sizeof(int));  // Initialize visited to 0\n",
        "\n",
        "    // Launch the parallel DFS kernel\n",
        "    int num_blocks = (num_nodes + THREADS_PER_BLOCK - 1) / THREADS_PER_BLOCK;\n",
        "    parallel_dfs<<<num_blocks, THREADS_PER_BLOCK>>>(d_adj_list, d_adj_list_offsets, d_visited, start_node, num_nodes);\n",
        "\n",
        "    // Retrieve the visited array from the GPU\n",
        "    std::vector<int> visited(num_nodes, 0);\n",
        "    cudaMemcpy(visited.data(), d_visited, num_nodes * sizeof(int), cudaMemcpyDeviceToHost);\n",
        "\n",
        "    // Output visited nodes\n",
        "    std::cout << \"Visited nodes in DFS order: \";\n",
        "    for (int i = 0; i < num_nodes; i++) {\n",
        "        if (visited[i]) {\n",
        "            std::cout << i << \" \";\n",
        "        }\n",
        "    }\n",
        "    std::cout << std::endl;\n",
        "\n",
        "    // Free GPU memory\n",
        "    cudaFree(d_adj_list);\n",
        "    cudaFree(d_adj_list_offsets);\n",
        "    cudaFree(d_visited);\n",
        "\n",
        "    return 0;\n",
        "}"
      ],
      "metadata": {
        "colab": {
          "base_uri": "https://localhost:8080/"
        },
        "id": "Y_d31lEra6xP",
        "outputId": "a6b5dedf-3e3a-45d7-e5a2-7758ea061f65"
      },
      "execution_count": null,
      "outputs": [
        {
          "output_type": "stream",
          "name": "stdout",
          "text": [
            "Writing depthfirst.cu\n"
          ]
        }
      ]
    },
    {
      "cell_type": "code",
      "source": [
        "!nvcc depthfirst.cu -o dfs"
      ],
      "metadata": {
        "id": "IdlOFvT9bEFE"
      },
      "execution_count": null,
      "outputs": []
    },
    {
      "cell_type": "code",
      "source": [
        "!./dfs"
      ],
      "metadata": {
        "colab": {
          "base_uri": "https://localhost:8080/"
        },
        "id": "UeV3MtnabGeJ",
        "outputId": "39d0a83b-cc1a-4a7d-c529-afd824920d02"
      },
      "execution_count": null,
      "outputs": [
        {
          "output_type": "stream",
          "name": "stdout",
          "text": [
            "Visited nodes in DFS order: 0 1 2 3 4 5 \n"
          ]
        }
      ]
    },
    {
      "cell_type": "code",
      "source": [],
      "metadata": {
        "id": "dynsz_4jbI4M"
      },
      "execution_count": null,
      "outputs": []
    }
  ]
}