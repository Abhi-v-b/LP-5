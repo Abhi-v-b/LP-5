{
  "nbformat": 4,
  "nbformat_minor": 0,
  "metadata": {
    "colab": {
      "provenance": [],
      "gpuType": "T4",
      "authorship_tag": "ABX9TyP2HZwwb+vgLXpFfDXar7OV",
      "include_colab_link": true
    },
    "kernelspec": {
      "name": "python3",
      "display_name": "Python 3"
    },
    "language_info": {
      "name": "python"
    },
    "accelerator": "GPU"
  },
  "cells": [
    {
      "cell_type": "markdown",
      "metadata": {
        "id": "view-in-github",
        "colab_type": "text"
      },
      "source": [
        "<a href=\"https://colab.research.google.com/github/Abhi-v-b/LP-5/blob/main/HPC/Assignment%203/Min_Max_Sum_Avg.ipynb\" target=\"_parent\"><img src=\"https://colab.research.google.com/assets/colab-badge.svg\" alt=\"Open In Colab\"/></a>"
      ]
    },
    {
      "cell_type": "code",
      "execution_count": 1,
      "metadata": {
        "colab": {
          "base_uri": "https://localhost:8080/"
        },
        "id": "Q3VRfhNgiLIL",
        "outputId": "090241cd-69aa-4556-cd0c-1709f4df2e97"
      },
      "outputs": [
        {
          "output_type": "stream",
          "name": "stdout",
          "text": [
            "nvcc: NVIDIA (R) Cuda compiler driver\n",
            "Copyright (c) 2005-2023 NVIDIA Corporation\n",
            "Built on Tue_Aug_15_22:02:13_PDT_2023\n",
            "Cuda compilation tools, release 12.2, V12.2.140\n",
            "Build cuda_12.2.r12.2/compiler.33191640_0\n"
          ]
        }
      ],
      "source": [
        "!nvcc --version"
      ]
    },
    {
      "cell_type": "code",
      "source": [
        "!pip install git+https://github.com/afnan47/cuda.git"
      ],
      "metadata": {
        "colab": {
          "base_uri": "https://localhost:8080/"
        },
        "id": "zjyBy6zhiq04",
        "outputId": "eb65ae09-7ebe-4ddb-c8f6-80f79dff3bb6"
      },
      "execution_count": 2,
      "outputs": [
        {
          "output_type": "stream",
          "name": "stdout",
          "text": [
            "Collecting git+https://github.com/afnan47/cuda.git\n",
            "  Cloning https://github.com/afnan47/cuda.git to /tmp/pip-req-build-g5gm2mhv\n",
            "  Running command git clone --filter=blob:none --quiet https://github.com/afnan47/cuda.git /tmp/pip-req-build-g5gm2mhv\n",
            "  Resolved https://github.com/afnan47/cuda.git to commit aac710a35f52bb78ab34d2e52517237941399eff\n",
            "  Preparing metadata (setup.py) ... \u001b[?25l\u001b[?25hdone\n",
            "Building wheels for collected packages: NVCCPlugin\n",
            "  Building wheel for NVCCPlugin (setup.py) ... \u001b[?25l\u001b[?25hdone\n",
            "  Created wheel for NVCCPlugin: filename=NVCCPlugin-0.0.2-py3-none-any.whl size=4289 sha256=c345e3cbb88e515d1c6a84b39c723f8b3f7fa8549fa12b1b7d9e9a3007802cca\n",
            "  Stored in directory: /tmp/pip-ephem-wheel-cache-fk2ztzo7/wheels/aa/f3/44/e10c1d226ec561d971fcd4b0463f6bff08602afa928a3e7bc7\n",
            "Successfully built NVCCPlugin\n",
            "Installing collected packages: NVCCPlugin\n",
            "Successfully installed NVCCPlugin-0.0.2\n"
          ]
        }
      ]
    },
    {
      "cell_type": "code",
      "source": [
        "%load_ext nvcc_plugin"
      ],
      "metadata": {
        "colab": {
          "base_uri": "https://localhost:8080/"
        },
        "id": "PpW3n2A9ivPg",
        "outputId": "eda5b99e-337c-4c93-fc15-9a4f5097900f"
      },
      "execution_count": 4,
      "outputs": [
        {
          "output_type": "stream",
          "name": "stdout",
          "text": [
            "created output directory at /content/src\n",
            "Out bin /content/result.out\n"
          ]
        }
      ]
    },
    {
      "cell_type": "code",
      "source": [
        "%%writefile operation.cu\n",
        "#include <iostream>\n",
        "#include <cuda_runtime.h>\n",
        "#include <algorithm> // For min and max operations\n",
        "#include <vector>\n",
        "\n",
        "using namespace std;\n",
        "\n",
        "// CUDA device function for reduction to find minimum value\n",
        "__global__ void min_reduction(int* d_arr, int* d_result, int size) {\n",
        "    extern __shared__ int sdata[];\n",
        "    int tid = threadIdx.x;\n",
        "    int global_id = blockIdx.x * blockDim.x + threadIdx.x;\n",
        "\n",
        "    // Load data into shared memory\n",
        "    if (global_id < size) {\n",
        "        sdata[tid] = d_arr[global_id];\n",
        "    } else {\n",
        "        sdata[tid] = INT_MAX;\n",
        "    }\n",
        "    __syncthreads();\n",
        "\n",
        "    // Reduction to find minimum\n",
        "    for (int stride = blockDim.x / 2; stride > 0; stride >>= 1) {\n",
        "        if (tid < stride && global_id + stride < size) {\n",
        "            sdata[tid] = min(sdata[tid], sdata[tid + stride]);\n",
        "        }\n",
        "        __syncthreads();\n",
        "    }\n",
        "\n",
        "    // Store the result from the first thread in each block\n",
        "    if (tid == 0) {\n",
        "        d_result[blockIdx.x] = sdata[0];\n",
        "    }\n",
        "}\n",
        "\n",
        "// CUDA device function for reduction to find maximum value\n",
        "__global__ void max_reduction(int* d_arr, int* d_result, int size) {\n",
        "    extern __shared__ int sdata[];\n",
        "    int tid = threadIdx.x;\n",
        "    int global_id = blockIdx.x * blockDim.x + threadIdx.x;\n",
        "\n",
        "    // Load data into shared memory\n",
        "    if (global_id < size) {\n",
        "        sdata[tid] = d_arr[global_id];\n",
        "    } else {\n",
        "        sdata[tid] = INT_MIN;\n",
        "    }\n",
        "    __syncthreads();\n",
        "\n",
        "    // Reduction to find maximum\n",
        "    for (int stride = blockDim.x / 2; stride > 0; stride >>= 1) {\n",
        "        if (tid < stride && global_id + stride < size) {\n",
        "            sdata[tid] = max(sdata[tid], sdata[tid + stride]);\n",
        "        }\n",
        "        __syncthreads();\n",
        "    }\n",
        "\n",
        "    // Store the result from the first thread in each block\n",
        "    if (tid == 0) {\n",
        "        d_result[blockIdx.x] = sdata[0];\n",
        "    }\n",
        "}\n",
        "\n",
        "// CUDA device function for reduction to find sum\n",
        "__global__ void sum_reduction(int* d_arr, int* d_result, int size) {\n",
        "    extern __shared__ int sdata[];\n",
        "    int tid = threadIdx.x;\n",
        "    int global_id = blockIdx.x * blockDim.x + threadIdx.x;\n",
        "\n",
        "    // Load data into shared memory\n",
        "    if (global_id < size) {\n",
        "        sdata[tid] = d_arr[global_id];\n",
        "    } else {\n",
        "        sdata[tid] = 0;\n",
        "    }\n",
        "    __syncthreads();\n",
        "\n",
        "    // Reduction to find sum\n",
        "    for (int stride = blockDim.x / 2; stride > 0; stride >>= 1) {\n",
        "        if (tid < stride && global_id + stride < size) {\n",
        "            sdata[tid] += sdata[tid + stride];\n",
        "        }\n",
        "        __syncthreads();\n",
        "    }\n",
        "\n",
        "    // Store the result from the first thread in each block\n",
        "    if (tid == 0) {\n",
        "        d_result[blockIdx.x] = sdata[0];\n",
        "    }\n",
        "}\n",
        "\n",
        "// Function to calculate the final reduction on the host\n",
        "int final_reduction(int* d_result, int size, int (*op)(int, int)) {\n",
        "    std::vector<int> h_result(size);\n",
        "    cudaMemcpy(h_result.data(), d_result, size * sizeof(int), cudaMemcpyDeviceToHost);\n",
        "\n",
        "    // Perform final reduction on the host\n",
        "    int final_result = h_result[0];\n",
        "    for (int i = 1; i < size; i++) {\n",
        "        final_result = op(final_result, h_result[i]);\n",
        "    }\n",
        "\n",
        "    return final_result;\n",
        "}\n",
        "\n",
        "int main() {\n",
        "    int n = 5;\n",
        "    int arr[] = {1, 2, 3, 4, 5};\n",
        "\n",
        "    // Allocate memory on the GPU\n",
        "    int* d_arr;\n",
        "    cudaMalloc(&d_arr, n * sizeof(int));\n",
        "    cudaMemcpy(d_arr, arr, n * sizeof(int), cudaMemcpyHostToDevice);\n",
        "\n",
        "    int blockSize = 256;\n",
        "    int gridSize = (n + blockSize - 1) / blockSize;\n",
        "\n",
        "    // Timing events\n",
        "    cudaEvent_t start, stop;\n",
        "    cudaEventCreate(&start);\n",
        "    cudaEventCreate(&stop);\n",
        "\n",
        "    // Minimum value\n",
        "    int* d_min_result;\n",
        "    cudaMalloc(&d_min_result, gridSize * sizeof(int));\n",
        "    cudaEventRecord(start);\n",
        "    min_reduction<<<gridSize, blockSize, blockSize * sizeof(int)>>>(d_arr, d_min_result, n);\n",
        "    cudaEventRecord(stop);\n",
        "    cudaEventSynchronize(stop);\n",
        "    float min_time_ms;\n",
        "    cudaEventElapsedTime(&min_time_ms, start, stop);\n",
        "    int minval = final_reduction(d_min_result, gridSize, [](int a, int b) { return std::min(a, b); });\n",
        "\n",
        "    // Maximum value\n",
        "    int* d_max_result;\n",
        "    cudaMalloc(&d_max_result, gridSize * sizeof(int));\n",
        "    cudaEventRecord(start);\n",
        "    max_reduction<<<gridSize, blockSize, blockSize * sizeof(int)>>>(d_arr, d_max_result, n);\n",
        "    cudaEventRecord(stop);\n",
        "    cudaEventSynchronize(stop);\n",
        "    float max_time_ms;\n",
        "    cudaEventElapsedTime(&max_time_ms, start, stop);\n",
        "    int maxval = final_reduction(d_max_result, gridSize, [](int a, int b) { return std::max(a, b); });\n",
        "\n",
        "    // Summation\n",
        "    int* d_sum_result;\n",
        "    cudaMalloc(&d_sum_result, gridSize * sizeof(int));\n",
        "    cudaEventRecord(start);\n",
        "    sum_reduction<<<gridSize, blockSize, blockSize * sizeof(int)>>>(d_arr, d_sum_result, n);\n",
        "    cudaEventRecord(stop);\n",
        "    cudaEventSynchronize(stop);\n",
        "    float sum_time_ms;\n",
        "    cudaEventElapsedTime(&sum_time_ms, start, stop);\n",
        "    int sumval = final_reduction(d_sum_result, gridSize, [](int a, int b) { return a + b; });\n",
        "\n",
        "    // Timing for average computation\n",
        "    cudaEventRecord(start);\n",
        "    double average = (double)sumval / n;\n",
        "    cudaEventRecord(stop);\n",
        "    cudaEventSynchronize(stop);\n",
        "    float average_time_ms;\n",
        "    cudaEventElapsedTime(&average_time_ms, start, stop);\n",
        "\n",
        "    // Print results\n",
        "    std::cout << \"The minimum value is: \" << minval << \" (Computed in \" << min_time_ms << \" ms)\" << std::endl;\n",
        "    std::cout << \"The maximum value is: \" << maxval << \" (Computed in \" << max_time_ms << \" ms)\" << std::endl;\n",
        "    std::cout << \"The summation is: \" << sumval << \" (Computed in \" << sum_time_ms << \" ms)\" << std::endl;\n",
        "    std::cout << \"The average is: \" << average << \" (Computed in \" << average_time_ms << \" ms)\" << std::endl;\n",
        "\n",
        "    // Free memory\n",
        "    cudaFree(d_arr);\n",
        "    cudaFree(d_min_result);\n",
        "    cudaFree(d_max_result);\n",
        "    cudaFree(d_sum_result);\n",
        "\n",
        "    return 0;\n",
        "}\n"
      ],
      "metadata": {
        "colab": {
          "base_uri": "https://localhost:8080/"
        },
        "id": "FTVZPT10iwRl",
        "outputId": "324fa033-755e-4db3-e65a-792a51d2866e"
      },
      "execution_count": 19,
      "outputs": [
        {
          "output_type": "stream",
          "name": "stdout",
          "text": [
            "Overwriting operation.cu\n"
          ]
        }
      ]
    },
    {
      "cell_type": "code",
      "source": [
        "!nvcc operation.cu -o opt"
      ],
      "metadata": {
        "id": "iX__2XPAi8fO"
      },
      "execution_count": 20,
      "outputs": []
    },
    {
      "cell_type": "code",
      "source": [
        "!./opt"
      ],
      "metadata": {
        "colab": {
          "base_uri": "https://localhost:8080/"
        },
        "id": "Bq8O59Ezi_k9",
        "outputId": "d71c6bff-af69-410d-e674-93d04c3b327c"
      },
      "execution_count": 21,
      "outputs": [
        {
          "output_type": "stream",
          "name": "stdout",
          "text": [
            "The minimum value is: 1 (Computed in 0.245568 ms)\n",
            "The maximum value is: 5 (Computed in 0.023136 ms)\n",
            "The summation is: 15 (Computed in 0.0176 ms)\n",
            "The average is: 3 (Computed in 0.002496 ms)\n"
          ]
        }
      ]
    }
  ]
}