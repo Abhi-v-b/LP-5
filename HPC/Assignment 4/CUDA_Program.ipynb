{
  "nbformat": 4,
  "nbformat_minor": 0,
  "metadata": {
    "colab": {
      "provenance": [],
      "gpuType": "T4",
      "authorship_tag": "ABX9TyO6Me/270MzboEraU1sqnM/",
      "include_colab_link": true
    },
    "kernelspec": {
      "name": "python3",
      "display_name": "Python 3"
    },
    "language_info": {
      "name": "python"
    },
    "accelerator": "GPU"
  },
  "cells": [
    {
      "cell_type": "markdown",
      "metadata": {
        "id": "view-in-github",
        "colab_type": "text"
      },
      "source": [
        "<a href=\"https://colab.research.google.com/github/Abhi-v-b/LP-5/blob/main/HPC/Assignment%204/CUDA_Program.ipynb\" target=\"_parent\"><img src=\"https://colab.research.google.com/assets/colab-badge.svg\" alt=\"Open In Colab\"/></a>"
      ]
    },
    {
      "cell_type": "code",
      "execution_count": 1,
      "metadata": {
        "colab": {
          "base_uri": "https://localhost:8080/"
        },
        "id": "pEs-4mioeIXc",
        "outputId": "9d0e7350-b250-4f07-c1cb-2ed8ee991ec9"
      },
      "outputs": [
        {
          "output_type": "stream",
          "name": "stdout",
          "text": [
            "Collecting git+https://github.com/afnan47/cuda.git\n",
            "  Cloning https://github.com/afnan47/cuda.git to /tmp/pip-req-build-6qiq_dft\n",
            "  Running command git clone --filter=blob:none --quiet https://github.com/afnan47/cuda.git /tmp/pip-req-build-6qiq_dft\n",
            "  Resolved https://github.com/afnan47/cuda.git to commit aac710a35f52bb78ab34d2e52517237941399eff\n",
            "  Preparing metadata (setup.py) ... \u001b[?25l\u001b[?25hdone\n",
            "Building wheels for collected packages: NVCCPlugin\n",
            "  Building wheel for NVCCPlugin (setup.py) ... \u001b[?25l\u001b[?25hdone\n",
            "  Created wheel for NVCCPlugin: filename=NVCCPlugin-0.0.2-py3-none-any.whl size=4289 sha256=4f55ebfd88b4ebba05d1c11e0d673415a7399915633263855371cf440ba7da93\n",
            "  Stored in directory: /tmp/pip-ephem-wheel-cache-xv47vsqx/wheels/aa/f3/44/e10c1d226ec561d971fcd4b0463f6bff08602afa928a3e7bc7\n",
            "Successfully built NVCCPlugin\n",
            "Installing collected packages: NVCCPlugin\n",
            "Successfully installed NVCCPlugin-0.0.2\n"
          ]
        }
      ],
      "source": [
        "!pip install git+https://github.com/afnan47/cuda.git"
      ]
    },
    {
      "cell_type": "code",
      "source": [
        "%load_ext nvcc_plugin\n"
      ],
      "metadata": {
        "colab": {
          "base_uri": "https://localhost:8080/"
        },
        "id": "5HeorJgneXmE",
        "outputId": "544fb4c7-7555-45e5-b69a-834d92eaeacf"
      },
      "execution_count": 2,
      "outputs": [
        {
          "output_type": "stream",
          "name": "stdout",
          "text": [
            "created output directory at /content/src\n",
            "Out bin /content/result.out\n"
          ]
        }
      ]
    },
    {
      "cell_type": "code",
      "source": [
        "%%cu\n",
        "#include <iostream>\n",
        "int main(){\n",
        "  std::cout << \"Hello World\\n\";\n",
        "  return 0;\n",
        "}\n"
      ],
      "metadata": {
        "colab": {
          "base_uri": "https://localhost:8080/"
        },
        "id": "qc0VxCwseZ76",
        "outputId": "7d29c63f-2c63-4e18-c2e3-afa7b771d73d"
      },
      "execution_count": 3,
      "outputs": [
        {
          "output_type": "stream",
          "name": "stdout",
          "text": [
            "Hello World\n",
            "\n"
          ]
        }
      ]
    },
    {
      "cell_type": "markdown",
      "source": [
        "Addition of two large vectors"
      ],
      "metadata": {
        "id": "5Ad4na7rqIF8"
      }
    },
    {
      "cell_type": "code",
      "source": [
        "%%cu\n",
        "\n",
        "#include <iostream>\n",
        "using namespace std;\n",
        "__global__\n",
        "void add(int* A, int* B, int* C, int size) {\n",
        "int tid = blockIdx.x * blockDim.x + threadIdx.x;\n",
        "if (tid < size) {\n",
        "C[tid] = A[tid] + B[tid];\n",
        "}\n",
        "}\n",
        "void initialize(int* vector, int size) {\n",
        "for (int i = 0; i < size; i++) {\n",
        "vector[i] = rand() % 10;\n",
        "}\n",
        "}\n",
        "void print(int* vector, int size) {\n",
        "for (int i = 0; i < size; i++) {\n",
        "cout << vector[i] << \" \";\n",
        "}\n",
        "cout << endl;\n",
        "}\n",
        "int main() {\n",
        "int N = 4;int* A, * B, * C;\n",
        "int vectorSize = N;\n",
        "size_t vectorBytes = vectorSize * sizeof(int);\n",
        "A = new int[vectorSize];\n",
        "B = new int[vectorSize];\n",
        "C = new int[vectorSize];\n",
        "initialize(A, vectorSize);\n",
        "initialize(B, vectorSize);\n",
        "cout << \"Vector A: \";\n",
        "print(A, N);\n",
        "cout << \"Vector B: \";\n",
        "print(B, N);\n",
        "int* X, * Y, * Z;\n",
        "cudaMalloc(&X, vectorBytes);\n",
        "cudaMalloc(&Y, vectorBytes);\n",
        "cudaMalloc(&Z, vectorBytes);\n",
        "cudaMemcpy(X, A, vectorBytes, cudaMemcpyHostToDevice);\n",
        "cudaMemcpy(Y, B, vectorBytes, cudaMemcpyHostToDevice);\n",
        "int threadsPerBlock = 256;\n",
        "int blocksPerGrid = (N + threadsPerBlock - 1) / threadsPerBlock;\n",
        "add<<<blocksPerGrid, threadsPerBlock>>>(X, Y, Z, N);\n",
        "cudaMemcpy(C, Z, vectorBytes, cudaMemcpyDeviceToHost);\n",
        "cout << \"Addition: \";\n",
        "print(C, N);\n",
        "delete[] A;\n",
        "delete[] B;\n",
        "delete[] C;\n",
        "cudaFree(X);\n",
        "cudaFree(Y);\n",
        "cudaFree(Z);\n",
        "return 0;\n",
        "}"
      ],
      "metadata": {
        "colab": {
          "base_uri": "https://localhost:8080/"
        },
        "id": "Bhd_iHsafA5M",
        "outputId": "4f096535-449e-4b11-d5a9-ee95e241ae2d"
      },
      "execution_count": 14,
      "outputs": [
        {
          "output_type": "stream",
          "name": "stdout",
          "text": [
            "/tmp/tmptr6zbazy/6d6a03d8-61b0-48e5-ada1-73a5ae753b8b.cu:1:2: error: invalid preprocessing directive #Addition\n",
            "    1 | #Addition of Two Large Vectors\n",
            "      |  ^~~~~~~~\n",
            "\n"
          ]
        }
      ]
    },
    {
      "cell_type": "markdown",
      "source": [
        "Matrix Multiplication using CUDA C"
      ],
      "metadata": {
        "id": "VVjmLmt6qYpI"
      }
    },
    {
      "cell_type": "code",
      "source": [
        "%%cu\n",
        "#include <iostream>\n",
        "#include <cuda.h>\n",
        "using namespace std;\n",
        "#define BLOCK_SIZE 2\n",
        "__global__ void gpuMM(float *A, float *B, float *C, int N)\n",
        "{\n",
        "// Matrix multiplication for NxN matrices C=A*B\n",
        "// Each thread computes a single element of C\n",
        "int row = blockIdx.y*blockDim.y + threadIdx.y;\n",
        "int col = blockIdx.x*blockDim.x + threadIdx.x;\n",
        "float sum = 0.f;for (int n = 0; n < N; ++n)\n",
        "sum += A[row*N+n]*B[n*N+col];\n",
        "C[row*N+col] = sum;\n",
        "}\n",
        "int main(int argc, char *argv[])\n",
        "{int N;float K;\n",
        "// Perform matrix multiplication C = A*B\n",
        "// where A, B and C are NxN matrices\n",
        "// Restricted to matrices where N = K*BLOCK_SIZE;\n",
        "cout<<\"Enter a Value for Size/2 of matrix\";\n",
        "cin>>K;\n",
        "K = 1;\n",
        "N = K*BLOCK_SIZE;\n",
        "cout << \"\\n Executing Matrix Multiplcation\" << endl;\n",
        "cout << \"\\n Matrix size: \" << N << \"x\" << N << endl;\n",
        "// Allocate memory on the host\n",
        "float *hA,*hB,*hC;\n",
        "hA = new float[N*N];\n",
        "hB = new float[N*N];\n",
        "hC = new float[N*N];\n",
        "// Initialize matrices on the host\n",
        "for (int j=0; j<N; j++){\n",
        "for (int i=0; i<N; i++){\n",
        "hA[j*N+i] = 2;\n",
        "hB[j*N+i] = 4;\n",
        "}\n",
        "}// Allocate memory on the device\n",
        "int size = N*N*sizeof(float); // Size of the memory in bytes\n",
        "float *dA,*dB,*dC;\n",
        "cudaMalloc(&dA,size);\n",
        "cudaMalloc(&dB,size);\n",
        "cudaMalloc(&dC,size);\n",
        "dim3 threadBlock(BLOCK_SIZE,BLOCK_SIZE);\n",
        "dim3 grid(K,K);\n",
        "cout<<\"\\n Input Matrix 1 \\n\";\n",
        "for (int row=0; row<N; row++){\n",
        "for (int col=0; col<N; col++){\n",
        "cout<<hA[row*col]<<\" \";\n",
        "}\n",
        "cout<<endl;\n",
        "}\n",
        "cout<<\"\\n Input Matrix 2 \\n\";\n",
        "for (int row=0; row<N; row++){\n",
        "for (int col=0; col<N; col++){\n",
        "cout<<hB[row*col]<<\" \";\n",
        "}\n",
        "cout<<endl;\n",
        "}\n",
        "// Copy matrices from the host to device\n",
        "cudaMemcpy(dA,hA,size,cudaMemcpyHostToDevice);\n",
        "cudaMemcpy(dB,hB,size,cudaMemcpyHostToDevice);\n",
        "//Execute the matrix multiplication kernel\n",
        "gpuMM<<<grid,threadBlock>>>(dA,dB,dC,N);// Now do the matrix multiplication on the CPU\n",
        "/*float sum;\n",
        "for (int row=0; row<N; row++){\n",
        "for (int col=0; col<N; col++){\n",
        "sum = 0.f;\n",
        "for (int n=0; n<N; n++){\n",
        "sum += hA[row*N+n]*hB[n*N+col];\n",
        "}\n",
        "hC[row*N+col] = sum;\n",
        "cout << sum <<\" \";\n",
        "}\n",
        "cout<<endl;\n",
        "}*/\n",
        "// Allocate memory to store the GPU answer on the host\n",
        "float *C;\n",
        "C = new float[N*N];\n",
        "// Now copy the GPU result back to CPU\n",
        "cudaMemcpy(C,dC,size,cudaMemcpyDeviceToHost);\n",
        "// Check the result and make sure it is correct\n",
        "cout <<\"\\n\\n\\n\\n\\n Resultant matrix\\n\\n\";\n",
        "for (int row=0; row<N; row++){\n",
        "for (int col=0; col<N; col++){\n",
        "cout<<C[row*col]<<\" \";\n",
        "}\n",
        "cout<<endl;\n",
        "}\n",
        "cout << \"Finished.\" << endl;\n",
        "}"
      ],
      "metadata": {
        "colab": {
          "base_uri": "https://localhost:8080/"
        },
        "id": "D1rK_H2Co_q4",
        "outputId": "4aa92ad3-eaf5-4265-c46b-ab078c592b03"
      },
      "execution_count": 12,
      "outputs": [
        {
          "output_type": "stream",
          "name": "stdout",
          "text": [
            "Enter a Value for Size/2 of matrix\n",
            " Executing Matrix Multiplcation\n",
            "\n",
            " Matrix size: 2x2\n",
            "\n",
            " Input Matrix 1 \n",
            "2 2 \n",
            "2 2 \n",
            "\n",
            " Input Matrix 2 \n",
            "4 4 \n",
            "4 4 \n",
            "\n",
            "\n",
            "\n",
            "\n",
            "\n",
            " Resultant matrix\n",
            "\n",
            "16 16 \n",
            "16 16 \n",
            "Finished.\n",
            "\n"
          ]
        }
      ]
    }
  ]
}